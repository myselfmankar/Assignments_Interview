{
  "cells": [
    {
      "cell_type": "code",
      "execution_count": 2,
      "metadata": {
        "id": "0C9rpp8nkeRw"
      },
      "outputs": [],
      "source": [
        "!pip install transformers torch peft accelerate langgraph huggingface_hub -q"
      ]
    },
    {
      "cell_type": "code",
      "execution_count": 3,
      "metadata": {
        "id": "Z8GEnBQVF3Mg"
      },
      "outputs": [],
      "source": [
        "from typing import TypedDict, Optional\n",
        "from langgraph.graph import StateGraph, END\n",
        "from peft import AutoPeftModelForSequenceClassification\n",
        "from transformers import AutoTokenizer, pipeline\n",
        "import os"
      ]
    },
    {
      "cell_type": "code",
      "execution_count": null,
      "metadata": {
        "colab": {
          "base_uri": "https://localhost:8080/"
        },
        "id": "HtPSIH4HGfZB",
        "outputId": "1420d6e0-a4d6-4794-a8d0-71aca7bd2ef8"
      },
      "outputs": [],
      "source": [
        "# loading models\n",
        "classifier = pipeline(\n",
        "    \"text-classification\",\n",
        "    model=\"myselfmankar/distilbert-base-sst2-lora\",\n",
        "    return_all_scores=True # Needed to get confidence\n",
        ")\n",
        "LABEL_MAP = {\"LABEL_0\": \"Negative\", \"LABEL_1\": \"Positive\"}\n",
        "\n",
        "fallback_classifier = pipeline(\n",
        "    \"zero-shot-classification\", # Changed to zero-shot-classification pipeline\n",
        "    model=\"facebook/bart-large-mnli\",\n",
        "    return_all_scores=True\n",
        ")"
      ]
    },
    {
      "cell_type": "code",
      "execution_count": 30,
      "metadata": {
        "id": "j5FbddNPGDvd"
      },
      "outputs": [],
      "source": [
        "class GraphState(TypedDict):\n",
        "  input_text: str\n",
        "  prediction: Optional[str]\n",
        "  confidence: Optional[float]\n",
        "  final_decision: Optional[str]\n",
        "  fallback_invoked: bool"
      ]
    },
    {
      "cell_type": "code",
      "execution_count": 31,
      "metadata": {
        "id": "yEpVzX8DG2U5"
      },
      "outputs": [],
      "source": [
        "def run_inference(state: GraphState):\n",
        "    print(\"\\n--- INFERENCE ---\")\n",
        "    input_text = state['input_text']\n",
        "    results = classifier(input_text)[0]\n",
        "    top_prediction = max(results, key=lambda x: x['score'])\n",
        "    prediction = LABEL_MAP[top_prediction['label']]\n",
        "    confidence = top_prediction['score']\n",
        "    print(f\"  Prediction: '{prediction}' | Confidence: {confidence:.2%}\")\n",
        "    return {\"prediction\": prediction, \"confidence\": confidence, \"fallback_invoked\": False}\n",
        "\n",
        "\n",
        "def check_confidence(state: GraphState):\n",
        "    print(\"\\n--- CONFIDENCE CHECK ---\")\n",
        "    confidence_threshold = 0.90  # Let's use a higher threshold for a better demo\n",
        "\n",
        "    if state['confidence'] < confidence_threshold:\n",
        "        print(f\"  Confidence {state['confidence']:.2%} is below threshold. Triggering fallback.\")\n",
        "        return \"ask_user\"\n",
        "    else:\n",
        "        print(f\"  Confidence {state['confidence']:.2%} is high. Accepting prediction.\")\n",
        "        return \"accept_prediction\"\n",
        "\n",
        "\n",
        "def set_final_decision(state: GraphState):\n",
        "    print(\"\\n--- ACCEPTING ---\")\n",
        "    print(\"  Confidence is high. Final decision matches model prediction.\")\n",
        "    final_decision = state['prediction']\n",
        "    return {\"final_decision\": final_decision}"
      ]
    },
    {
      "cell_type": "code",
      "execution_count": 32,
      "metadata": {
        "id": "_p6MwBGtKEn0"
      },
      "outputs": [],
      "source": [
        "#Fallback using Human-Verification.\n",
        "\n",
        "def run_fallback_with_human_in_loop(state: GraphState):\n",
        "    print(\"\\n--- FALLBACK ---\")\n",
        "    question = f\"  The model is not confident in its prediction of '{state['prediction']}'.\\n  Was your review negative? (yes/no): \"\n",
        "\n",
        "    while True:\n",
        "        user_response = input(question).strip().lower()\n",
        "        if user_response in [\"yes\", \"no\"]:\n",
        "            break\n",
        "        print(\"  Invalid input. Please enter 'yes' or 'no'.\")\n",
        "\n",
        "    final_decision = \"Negative\" if user_response == \"yes\" else \"Positive\"\n",
        "\n",
        "    print(f\"  User clarified. Final Decision: {final_decision}\")\n",
        "    return {\"final_decision\": final_decision, \"fallback_invoked\": True}\n",
        "\n"
      ]
    },
    {
      "cell_type": "code",
      "execution_count": 33,
      "metadata": {
        "id": "8_cW-JbiLeZ1"
      },
      "outputs": [],
      "source": [
        "def run_fallback_with_zero_shot(state: GraphState) -> dict:\n",
        "    print(\"\\n--- FALLBACK (Zero-Shot Model) ---\")\n",
        "    print(\"  Primary model confidence was low. Consulting backup model...\")\n",
        "    input_text = state['input_text']\n",
        "\n",
        "    # The candidate labels we want the zero-shot model to choose from.\n",
        "    candidate_labels = [\"Positive\", \"Negative\"]\n",
        "\n",
        "    # The zero-shot pipeline returns one dictionary.\n",
        "    # The results are already sorted by score.\n",
        "    result = fallback_classifier(input_text, candidate_labels=candidate_labels)\n",
        "    final_decision = result['labels'][0]\n",
        "    confidence = result['scores'][0]\n",
        "\n",
        "    print(f\"  Backup Model Prediction: '{final_decision}' | Confidence: {confidence:.2%}\")\n",
        "\n",
        "    return {\n",
        "        \"final_decision\": final_decision,\n",
        "        \"fallback_invoked\": True\n",
        "    }"
      ]
    },
    {
      "cell_type": "code",
      "execution_count": 34,
      "metadata": {
        "id": "DdhK5_HWIk8I"
      },
      "outputs": [],
      "source": [
        "# --- Assemble the Graph (Modern Syntax) ---\n",
        "workflow = StateGraph(GraphState)\n",
        "workflow.add_node(\"inference\", run_inference)\n",
        "workflow.add_node(\"fallback\", run_fallback_with_zero_shot)\n",
        "workflow.add_node(\"accept\", set_final_decision)\n",
        "workflow.set_entry_point(\"inference\")\n",
        "workflow.add_conditional_edges(\n",
        "    \"inference\",\n",
        "    check_confidence,\n",
        "    {\n",
        "        \"ask_user\": \"fallback\",\n",
        "        \"accept_prediction\": \"accept\",\n",
        "    }\n",
        ")\n",
        "\n",
        "workflow.add_edge(\"fallback\", END)\n",
        "workflow.add_edge(\"accept\", END)\n",
        "\n",
        "app = workflow.compile()"
      ]
    },
    {
      "cell_type": "code",
      "execution_count": null,
      "metadata": {
        "colab": {
          "base_uri": "https://localhost:8080/"
        },
        "id": "RIfPwu97JfGG",
        "outputId": "4ba2742a-d7c3-4e7d-92e6-c22871f41db9"
      },
      "outputs": [],
      "source": [
        "print(\"Self-Healing Classification DAG\")\n",
        "# print(\"Enter your movie review, or type 'quit' to exit.\")\n",
        "\n",
        "while True:\n",
        "    print(\"Enter your movie review, or type 'quit' to exit.\")\n",
        "    user_input = input(\"\\nInput: \")\n",
        "    if user_input.lower() == 'quit':\n",
        "        break\n",
        "\n",
        "    # Run the graph\n",
        "    final_state = app.invoke({\"input_text\": user_input})\n",
        "\n",
        "    print(\"\\n\" + \"=\"*40)\n",
        "    print(\"--- FINAL OUTPUT ---\")\n",
        "    print(f\"Reviewed Text: '{final_state['input_text']}'\")\n",
        "    print(f\"Final Label: {final_state['final_decision']}\")\n",
        "    if final_state['fallback_invoked']:\n",
        "        print(\"Note: This decision was corrected via user clarification.\")\n",
        "    print(\"=\"*40)"
      ]
    },
    {
      "cell_type": "code",
      "execution_count": 39,
      "metadata": {
        "colab": {
          "base_uri": "https://localhost:8080/",
          "height": 374
        },
        "id": "GSN6_WhZSFP5",
        "outputId": "b2a6f524-084c-423e-cf8f-fbb199a7be89"
      },
      "outputs": [
        {
          "data": {
            "image/png": "[encoded data removed]",
            "text/plain": [
              "<IPython.core.display.Image object>"
            ]
          },
          "metadata": {},
          "output_type": "display_data"
        }
      ],
      "source": [
        "from IPython.display import display, Image\n",
        "display(Image(app.get_graph().draw_mermaid_png()))"
      ]
    }
  ],
  "metadata": {
    "colab": {
      "provenance": []
    },
    "kernelspec": {
      "display_name": "Python 3",
      "name": "python3"
    },
    "language_info": {
      "name": "python"
    }
  },
  "nbformat": 4,
  "nbformat_minor": 0
}
